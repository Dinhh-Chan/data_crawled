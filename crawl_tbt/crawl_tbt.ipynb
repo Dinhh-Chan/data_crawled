{
 "cells": [
  {
   "cell_type": "code",
   "execution_count": 1,
   "metadata": {},
   "outputs": [],
   "source": [
    "import requests \n",
    "from bs4 import BeautifulSoup \n",
    "import json "
   ]
  },
  {
   "cell_type": "code",
   "execution_count": null,
   "metadata": {},
   "outputs": [
    {
     "name": "stdout",
     "output_type": "stream",
     "text": [
      "[{'id': 'DZ', 'total': 12}, {'id': 'CAN', 'total': 1}, {'id': 'AO', 'total': 1}, {'id': 'AR', 'total': 8}, {'id': 'AM', 'total': 1}, {'id': 'AU', 'total': 15}, {'id': 'BD', 'total': 2}, {'id': 'BY', 'total': 3}, {'id': 'BO', 'total': 1}, {'id': 'BA', 'total': 1}, {'id': 'BR', 'total': 18}, {'id': 'CM', 'total': 1}, {'id': 'CA', 'total': 7}, {'id': 'CL', 'total': 6}, {'id': 'CN', 'total': 30}, {'id': 'CO', 'total': 6}, {'id': 'CR', 'total': 1}, {'id': 'DO', 'total': 3}, {'id': 'EC', 'total': 1}, {'id': 'EG', 'total': 7}, {'id': 'GA', 'total': 1}, {'id': 'HK', 'total': 3}, {'id': 'IN', 'total': 31}, {'id': 'ID', 'total': 18}, {'id': 'IR', 'total': 3}, {'id': 'IQ', 'total': 1}, {'id': 'IL', 'total': 6}, {'id': 'CI', 'total': 1}, {'id': 'JP', 'total': 7}, {'id': 'JO', 'total': 2}, {'id': 'KZ', 'total': 3}, {'id': 'KW', 'total': 1}, {'id': 'LB', 'total': 5}, {'id': 'MY', 'total': 11}, {'id': 'MX', 'total': 10}, {'id': 'MA', 'total': 10}, {'id': 'NP', 'total': 1}, {'id': 'NI', 'total': 1}, {'id': 'NG', 'total': 6}, {'id': 'NO', 'total': 2}, {'id': 'PK', 'total': 6}, {'id': 'PA', 'total': 3}, {'id': 'PY', 'total': 3}, {'id': 'PE', 'total': 3}, {'id': 'PH', 'total': 6}, {'id': 'QA', 'total': 1}, {'id': 'RU', 'total': 32}, {'id': 'SA', 'total': 6}, {'id': 'ZA', 'total': 9}, {'id': 'KR', 'total': 17}, {'id': 'LK', 'total': 1}, {'id': 'CH', 'total': 2}, {'id': 'TW', 'total': 6}, {'id': 'TH', 'total': 10}, {'id': 'TT', 'total': 1}, {'id': 'TN', 'total': 6}, {'id': 'TR', 'total': 15}, {'id': 'UG', 'total': 1}, {'id': 'UA', 'total': 5}, {'id': 'AE', 'total': 2}, {'id': 'GB', 'total': 1}, {'id': 'US', 'total': 24}, {'id': 'UY', 'total': 4}, {'id': 'UZ', 'total': 1}, {'id': 'VE', 'total': 3}, {'id': 'VN', 'total': 9}]\n"
     ]
    }
   ],
   "source": [
    "api = \"https://webgate.ec.europa.eu/barriers/public/v1/barriers?isSps=&country=&page=1&pageSize=500\"\n",
    "BASE_URL = \"https://trade.ec.europa.eu/access-to-markets/en/barriers/results?isSps=false&countries=\"\n",
    "response = requests.get(api)\n",
    "data = response.json()\n",
    "list_infor = []\n",
    "standard_crawled =[]\n",
    "for i in data :\n",
    "    id_country = i[\"id\"]\n",
    "    infor = {\n",
    "        \"id\": id_country,\n",
    "        \"total\": i[\"barrierCount\"]\n",
    "    }\n",
    "    list_infor.append(infor)\n",
    "print(list_infor)\n",
    "for link in list_infor :\n",
    "    id = link[\"id\"]\n",
    "    total = link[\"total\"]\n",
    "    api = f\"https://webgate.ec.europa.eu/barriers/public/v1/barriers?isSps=&country={id}&page=1&pageSize={total}\"\n",
    "    response = requests.get(api)\n",
    "    data = response.json()\n",
    "    if standard[\"barrierStatus\"] ==\"Active\":\n",
    "        status = \"In force\"\n",
    "    else :\n",
    "        status = standard[\"barrierStatus\"]\n",
    "    for standard in data[\"publicBarriers\"] :\n",
    "        infor_standard ={\n",
    "            \"ten_tieng_anh\": standard[\"title\"],\n",
    "            \"country\": standard[\"country\"],\n",
    "            \"mo_ta\": standard[\"description\"],\n",
    "            \"status\": status,\n",
    "            \"loai\": \"kho\", \n",
    "            \"nam_ban_hanh\": standard[\"lastUpdateDate\"],\n",
    "            \"sector\": standard[\"sectors\"][0][\"name\"]\n",
    "        }\n",
    "        standard_crawled.append(infor_standard)\n",
    "with open(\"standard_tbt.json\", \"w\") as f :\n",
    "    json.dump(standard_crawled, f, ensure_ascii=False , indent=4)\n"
   ]
  }
 ],
 "metadata": {
  "kernelspec": {
   "display_name": "venv",
   "language": "python",
   "name": "python3"
  },
  "language_info": {
   "codemirror_mode": {
    "name": "ipython",
    "version": 3
   },
   "file_extension": ".py",
   "mimetype": "text/x-python",
   "name": "python",
   "nbconvert_exporter": "python",
   "pygments_lexer": "ipython3",
   "version": "3.12.3"
  }
 },
 "nbformat": 4,
 "nbformat_minor": 2
}
